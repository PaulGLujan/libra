{
 "cells": [
  {
   "cell_type": "markdown",
   "metadata": {},
   "source": [
    "## Join fighters and fights table"
   ]
  },
  {
   "cell_type": "code",
   "execution_count": 348,
   "metadata": {},
   "outputs": [
    {
     "data": {
      "text/html": [
       "<div>\n",
       "<style scoped>\n",
       "    .dataframe tbody tr th:only-of-type {\n",
       "        vertical-align: middle;\n",
       "    }\n",
       "\n",
       "    .dataframe tbody tr th {\n",
       "        vertical-align: top;\n",
       "    }\n",
       "\n",
       "    .dataframe thead th {\n",
       "        text-align: right;\n",
       "    }\n",
       "</style>\n",
       "<table border=\"1\" class=\"dataframe\">\n",
       "  <thead>\n",
       "    <tr style=\"text-align: right;\">\n",
       "      <th></th>\n",
       "      <th>Event</th>\n",
       "      <th>Win/Loss/Draw</th>\n",
       "      <th>Fighter</th>\n",
       "      <th>Opponent</th>\n",
       "      <th>Method</th>\n",
       "      <th>Referee</th>\n",
       "      <th>Round</th>\n",
       "      <th>Time</th>\n",
       "      <th>Closed Odds</th>\n",
       "      <th>NAME_x</th>\n",
       "      <th>GYM</th>\n",
       "      <th>DOB</th>\n",
       "      <th>HEIGHT</th>\n",
       "      <th>WEIGHT</th>\n",
       "      <th>NAME_y</th>\n",
       "      <th>DATE</th>\n",
       "    </tr>\n",
       "  </thead>\n",
       "  <tbody>\n",
       "    <tr>\n",
       "      <th>0</th>\n",
       "      <td>UFC 228 - Woodley vs. Till</td>\n",
       "      <td>WIN</td>\n",
       "      <td>ABDUL RAZAK ALHASSAN</td>\n",
       "      <td>NIKO PRICE</td>\n",
       "      <td>KO (Punch)</td>\n",
       "      <td>Jacob Montalvo</td>\n",
       "      <td>1</td>\n",
       "      <td>0:43</td>\n",
       "      <td>-130.0</td>\n",
       "      <td>ABDUL RAZAK ALHASSAN</td>\n",
       "      <td>NaN</td>\n",
       "      <td>1985-08-11</td>\n",
       "      <td>5'10'</td>\n",
       "      <td>170 LBS</td>\n",
       "      <td>UFC 228 - Woodley vs. Till</td>\n",
       "      <td>Sep / 08 / 2018</td>\n",
       "    </tr>\n",
       "    <tr>\n",
       "      <th>1</th>\n",
       "      <td>UFC 228 - Woodley vs. Till</td>\n",
       "      <td>LOSS</td>\n",
       "      <td>ALEX WHITE</td>\n",
       "      <td>JIM MILLER</td>\n",
       "      <td>Submission (Rear-Naked Choke)</td>\n",
       "      <td>Kevin MacDonald</td>\n",
       "      <td>1</td>\n",
       "      <td>1:29</td>\n",
       "      <td>-185.0</td>\n",
       "      <td>ALEX WHITE</td>\n",
       "      <td>Team Destruction</td>\n",
       "      <td>1988-10-22</td>\n",
       "      <td>6'0'</td>\n",
       "      <td>155 LBS</td>\n",
       "      <td>UFC 228 - Woodley vs. Till</td>\n",
       "      <td>Sep / 08 / 2018</td>\n",
       "    </tr>\n",
       "    <tr>\n",
       "      <th>2</th>\n",
       "      <td>UFC 228 - Woodley vs. Till</td>\n",
       "      <td>WIN</td>\n",
       "      <td>ALJAMAIN STERLING</td>\n",
       "      <td>CODY STAMANN</td>\n",
       "      <td>Submission (Kneebar)</td>\n",
       "      <td>Kevin MacDonald</td>\n",
       "      <td>2</td>\n",
       "      <td>3:42</td>\n",
       "      <td>-190.0</td>\n",
       "      <td>ALJAMAIN STERLING</td>\n",
       "      <td>Serra-Longo Fight Team</td>\n",
       "      <td>1989-07-31</td>\n",
       "      <td>5'7'</td>\n",
       "      <td>135 LBS</td>\n",
       "      <td>UFC 228 - Woodley vs. Till</td>\n",
       "      <td>Sep / 08 / 2018</td>\n",
       "    </tr>\n",
       "    <tr>\n",
       "      <th>3</th>\n",
       "      <td>UFC 228 - Woodley vs. Till</td>\n",
       "      <td>LOSS</td>\n",
       "      <td>BRANDON DAVIS</td>\n",
       "      <td>ZABIT MAGOMEDSHARIPOV</td>\n",
       "      <td>Submission (Kneebar)</td>\n",
       "      <td>Jacob Montalvo</td>\n",
       "      <td>2</td>\n",
       "      <td>4:36</td>\n",
       "      <td>610.0</td>\n",
       "      <td>BRANDON DAVIS</td>\n",
       "      <td>Alan Belcher MMA Club</td>\n",
       "      <td>1990-05-08</td>\n",
       "      <td>5'10'</td>\n",
       "      <td>145 LBS</td>\n",
       "      <td>UFC 228 - Woodley vs. Till</td>\n",
       "      <td>Sep / 08 / 2018</td>\n",
       "    </tr>\n",
       "    <tr>\n",
       "      <th>4</th>\n",
       "      <td>UFC 228 - Woodley vs. Till</td>\n",
       "      <td>LOSS</td>\n",
       "      <td>CARLA ESPARZA</td>\n",
       "      <td>TATIANA SUAREZ</td>\n",
       "      <td>TKO (Punches)</td>\n",
       "      <td>Kerry Hatley</td>\n",
       "      <td>3</td>\n",
       "      <td>4:33</td>\n",
       "      <td>300.0</td>\n",
       "      <td>CARLA ESPARZA</td>\n",
       "      <td>Team Oyama</td>\n",
       "      <td>1987-10-10</td>\n",
       "      <td>5'1'</td>\n",
       "      <td>115 LBS</td>\n",
       "      <td>UFC 228 - Woodley vs. Till</td>\n",
       "      <td>Sep / 08 / 2018</td>\n",
       "    </tr>\n",
       "  </tbody>\n",
       "</table>\n",
       "</div>"
      ],
      "text/plain": [
       "                        Event Win/Loss/Draw               Fighter  \\\n",
       "0  UFC 228 - Woodley vs. Till           WIN  ABDUL RAZAK ALHASSAN   \n",
       "1  UFC 228 - Woodley vs. Till          LOSS            ALEX WHITE   \n",
       "2  UFC 228 - Woodley vs. Till           WIN     ALJAMAIN STERLING   \n",
       "3  UFC 228 - Woodley vs. Till          LOSS         BRANDON DAVIS   \n",
       "4  UFC 228 - Woodley vs. Till          LOSS         CARLA ESPARZA   \n",
       "\n",
       "                Opponent                         Method          Referee  \\\n",
       "0             NIKO PRICE                     KO (Punch)   Jacob Montalvo   \n",
       "1             JIM MILLER  Submission (Rear-Naked Choke)  Kevin MacDonald   \n",
       "2           CODY STAMANN           Submission (Kneebar)  Kevin MacDonald   \n",
       "3  ZABIT MAGOMEDSHARIPOV           Submission (Kneebar)   Jacob Montalvo   \n",
       "4         TATIANA SUAREZ                  TKO (Punches)     Kerry Hatley   \n",
       "\n",
       "   Round  Time  Closed Odds                NAME_x                     GYM  \\\n",
       "0      1  0:43       -130.0  ABDUL RAZAK ALHASSAN                     NaN   \n",
       "1      1  1:29       -185.0            ALEX WHITE        Team Destruction   \n",
       "2      2  3:42       -190.0     ALJAMAIN STERLING  Serra-Longo Fight Team   \n",
       "3      2  4:36        610.0         BRANDON DAVIS   Alan Belcher MMA Club   \n",
       "4      3  4:33        300.0         CARLA ESPARZA              Team Oyama   \n",
       "\n",
       "          DOB HEIGHT   WEIGHT                      NAME_y             DATE  \n",
       "0  1985-08-11  5'10'  170 LBS  UFC 228 - Woodley vs. Till  Sep / 08 / 2018  \n",
       "1  1988-10-22   6'0'  155 LBS  UFC 228 - Woodley vs. Till  Sep / 08 / 2018  \n",
       "2  1989-07-31   5'7'  135 LBS  UFC 228 - Woodley vs. Till  Sep / 08 / 2018  \n",
       "3  1990-05-08  5'10'  145 LBS  UFC 228 - Woodley vs. Till  Sep / 08 / 2018  \n",
       "4  1987-10-10   5'1'  115 LBS  UFC 228 - Woodley vs. Till  Sep / 08 / 2018  "
      ]
     },
     "execution_count": 348,
     "metadata": {},
     "output_type": "execute_result"
    }
   ],
   "source": [
    "import pandas as pd\n",
    "import math\n",
    "import matplotlib.pyplot as plt\n",
    "from datetime import datetime\n",
    "from datetime import date\n",
    "from sklearn.model_selection import train_test_split\n",
    "from sklearn.metrics import mean_absolute_error\n",
    "from sklearn.ensemble import RandomForestRegressor\n",
    "import re\n",
    "\n",
    "fighters_path = \"../data/fighters.csv\"\n",
    "fights_path = \"../data/fights.csv\"\n",
    "events_path = \"../data/events.csv\"\n",
    "\n",
    "fighters = pd.read_csv(fighters_path)\n",
    "fights = pd.read_csv(fights_path)\n",
    "events = pd.read_csv(events_path)\n",
    "\n",
    "fights_fighters = fights.merge(fighters, right_on='NAME', left_on=\"Fighter\")\n",
    "fights_fighters_events = fights_fighters.merge(events, left_on=\"Event\", right_on=\"NAME\")\n",
    "fights_fighters_events.head()"
   ]
  },
  {
   "cell_type": "markdown",
   "metadata": {},
   "source": [
    "## Prep Data Features"
   ]
  },
  {
   "cell_type": "markdown",
   "metadata": {},
   "source": [
    "### Convert Height to Inches"
   ]
  },
  {
   "cell_type": "code",
   "execution_count": 349,
   "metadata": {},
   "outputs": [],
   "source": [
    "heights_col = fights_fighters_events['HEIGHT']\n",
    "\n",
    "for items in heights_col.iteritems():\n",
    "    out_inches = 0\n",
    "    if isinstance(items[1], str):\n",
    "        height = items[1].split('\\'')\n",
    "        feet = int(height[0])\n",
    "        inches = int(height[1])\n",
    "        out_inches = (feet*12 + inches)\n",
    "    fights_fighters_events.at[items[0], \"HEIGHT\"] = out_inches"
   ]
  },
  {
   "cell_type": "code",
   "execution_count": 350,
   "metadata": {},
   "outputs": [],
   "source": [
    "# fights_fighters_events.head(50)"
   ]
  },
  {
   "cell_type": "markdown",
   "metadata": {},
   "source": [
    "### Convert Pounds to Int"
   ]
  },
  {
   "cell_type": "code",
   "execution_count": 351,
   "metadata": {},
   "outputs": [],
   "source": [
    "weights_col = fights_fighters_events['WEIGHT']\n",
    "\n",
    "for items in weights_col.iteritems():\n",
    "    parseWeight = 0\n",
    "    if isinstance(items[1], str):\n",
    "        parseWeight = int(re.sub(\"[^0-9]\", \"\", items[1]))\n",
    "    fights_fighters_events.at[items[0], \"WEIGHT\"] = parseWeight"
   ]
  },
  {
   "cell_type": "code",
   "execution_count": 352,
   "metadata": {},
   "outputs": [],
   "source": [
    "# fights_fighters_events.head(50)"
   ]
  },
  {
   "cell_type": "markdown",
   "metadata": {},
   "source": [
    "### Add Age at Time of Fight"
   ]
  },
  {
   "cell_type": "markdown",
   "metadata": {},
   "source": [
    "#### Remove all NaNs"
   ]
  },
  {
   "cell_type": "code",
   "execution_count": 353,
   "metadata": {},
   "outputs": [
    {
     "data": {
      "text/html": [
       "<div>\n",
       "<style scoped>\n",
       "    .dataframe tbody tr th:only-of-type {\n",
       "        vertical-align: middle;\n",
       "    }\n",
       "\n",
       "    .dataframe tbody tr th {\n",
       "        vertical-align: top;\n",
       "    }\n",
       "\n",
       "    .dataframe thead th {\n",
       "        text-align: right;\n",
       "    }\n",
       "</style>\n",
       "<table border=\"1\" class=\"dataframe\">\n",
       "  <thead>\n",
       "    <tr style=\"text-align: right;\">\n",
       "      <th></th>\n",
       "      <th>Round</th>\n",
       "      <th>Closed Odds</th>\n",
       "    </tr>\n",
       "  </thead>\n",
       "  <tbody>\n",
       "    <tr>\n",
       "      <th>count</th>\n",
       "      <td>16085.000000</td>\n",
       "      <td>5777.000000</td>\n",
       "    </tr>\n",
       "    <tr>\n",
       "      <th>mean</th>\n",
       "      <td>2.046130</td>\n",
       "      <td>-153.374589</td>\n",
       "    </tr>\n",
       "    <tr>\n",
       "      <th>std</th>\n",
       "      <td>1.052518</td>\n",
       "      <td>349.954536</td>\n",
       "    </tr>\n",
       "    <tr>\n",
       "      <th>min</th>\n",
       "      <td>0.000000</td>\n",
       "      <td>-4500.000000</td>\n",
       "    </tr>\n",
       "    <tr>\n",
       "      <th>25%</th>\n",
       "      <td>1.000000</td>\n",
       "      <td>-290.000000</td>\n",
       "    </tr>\n",
       "    <tr>\n",
       "      <th>50%</th>\n",
       "      <td>2.000000</td>\n",
       "      <td>-155.000000</td>\n",
       "    </tr>\n",
       "    <tr>\n",
       "      <th>75%</th>\n",
       "      <td>3.000000</td>\n",
       "      <td>130.000000</td>\n",
       "    </tr>\n",
       "    <tr>\n",
       "      <th>max</th>\n",
       "      <td>5.000000</td>\n",
       "      <td>750.000000</td>\n",
       "    </tr>\n",
       "  </tbody>\n",
       "</table>\n",
       "</div>"
      ],
      "text/plain": [
       "              Round  Closed Odds\n",
       "count  16085.000000  5777.000000\n",
       "mean       2.046130  -153.374589\n",
       "std        1.052518   349.954536\n",
       "min        0.000000 -4500.000000\n",
       "25%        1.000000  -290.000000\n",
       "50%        2.000000  -155.000000\n",
       "75%        3.000000   130.000000\n",
       "max        5.000000   750.000000"
      ]
     },
     "execution_count": 353,
     "metadata": {},
     "output_type": "execute_result"
    }
   ],
   "source": [
    "fights_fighters_events.describe()"
   ]
  },
  {
   "cell_type": "code",
   "execution_count": 354,
   "metadata": {},
   "outputs": [],
   "source": [
    "fights_fighters_events = fights_fighters_events.dropna(subset=[\"DOB\"])"
   ]
  },
  {
   "cell_type": "code",
   "execution_count": 355,
   "metadata": {},
   "outputs": [
    {
     "data": {
      "text/html": [
       "<div>\n",
       "<style scoped>\n",
       "    .dataframe tbody tr th:only-of-type {\n",
       "        vertical-align: middle;\n",
       "    }\n",
       "\n",
       "    .dataframe tbody tr th {\n",
       "        vertical-align: top;\n",
       "    }\n",
       "\n",
       "    .dataframe thead th {\n",
       "        text-align: right;\n",
       "    }\n",
       "</style>\n",
       "<table border=\"1\" class=\"dataframe\">\n",
       "  <thead>\n",
       "    <tr style=\"text-align: right;\">\n",
       "      <th></th>\n",
       "      <th>Round</th>\n",
       "      <th>Closed Odds</th>\n",
       "    </tr>\n",
       "  </thead>\n",
       "  <tbody>\n",
       "    <tr>\n",
       "      <th>count</th>\n",
       "      <td>15905.000000</td>\n",
       "      <td>5761.000000</td>\n",
       "    </tr>\n",
       "    <tr>\n",
       "      <th>mean</th>\n",
       "      <td>2.047218</td>\n",
       "      <td>-154.082625</td>\n",
       "    </tr>\n",
       "    <tr>\n",
       "      <th>std</th>\n",
       "      <td>1.053091</td>\n",
       "      <td>349.972619</td>\n",
       "    </tr>\n",
       "    <tr>\n",
       "      <th>min</th>\n",
       "      <td>0.000000</td>\n",
       "      <td>-4500.000000</td>\n",
       "    </tr>\n",
       "    <tr>\n",
       "      <th>25%</th>\n",
       "      <td>1.000000</td>\n",
       "      <td>-290.000000</td>\n",
       "    </tr>\n",
       "    <tr>\n",
       "      <th>50%</th>\n",
       "      <td>2.000000</td>\n",
       "      <td>-155.000000</td>\n",
       "    </tr>\n",
       "    <tr>\n",
       "      <th>75%</th>\n",
       "      <td>3.000000</td>\n",
       "      <td>130.000000</td>\n",
       "    </tr>\n",
       "    <tr>\n",
       "      <th>max</th>\n",
       "      <td>5.000000</td>\n",
       "      <td>750.000000</td>\n",
       "    </tr>\n",
       "  </tbody>\n",
       "</table>\n",
       "</div>"
      ],
      "text/plain": [
       "              Round  Closed Odds\n",
       "count  15905.000000  5761.000000\n",
       "mean       2.047218  -154.082625\n",
       "std        1.053091   349.972619\n",
       "min        0.000000 -4500.000000\n",
       "25%        1.000000  -290.000000\n",
       "50%        2.000000  -155.000000\n",
       "75%        3.000000   130.000000\n",
       "max        5.000000   750.000000"
      ]
     },
     "execution_count": 355,
     "metadata": {},
     "output_type": "execute_result"
    }
   ],
   "source": [
    "fights_fighters_events.describe()"
   ]
  },
  {
   "cell_type": "markdown",
   "metadata": {},
   "source": [
    "#### Calc Age and Insert into Data Frame"
   ]
  },
  {
   "cell_type": "code",
   "execution_count": 356,
   "metadata": {},
   "outputs": [],
   "source": [
    "for index_label, row_series in fights_fighters_events.iterrows():\n",
    "    event_date = row_series['DATE']\n",
    "    DOB = row_series['DOB']\n",
    "    event_datetime = datetime.strptime(event_date, '%b / %d / %Y')\n",
    "    DOB_datetime = datetime.strptime(DOB, '%Y-%m-%d')\n",
    "    \n",
    "    # Calc age\n",
    "    age = (event_datetime - DOB_datetime).total_seconds() / 3.154e+7\n",
    "    fights_fighters_events.at[index_label, 'AGE'] = age"
   ]
  },
  {
   "cell_type": "code",
   "execution_count": 357,
   "metadata": {},
   "outputs": [],
   "source": [
    "# fights_fighters_events.head()"
   ]
  },
  {
   "cell_type": "markdown",
   "metadata": {},
   "source": [
    "### Try using BMI as feature"
   ]
  },
  {
   "cell_type": "code",
   "execution_count": 358,
   "metadata": {},
   "outputs": [],
   "source": [
    "for index_label, row_series in fights_fighters_events.iterrows():\n",
    "    height = row_series['HEIGHT']\n",
    "    weight = row_series['WEIGHT']\n",
    "    BMI = weight / weight * weight \n",
    "    fights_fighters_events.at[index_label, 'BMI'] = BMI"
   ]
  },
  {
   "cell_type": "markdown",
   "metadata": {},
   "source": [
    "### Parse Win, Loss to 0, 1. Remove draw and NC rows."
   ]
  },
  {
   "cell_type": "code",
   "execution_count": 359,
   "metadata": {},
   "outputs": [],
   "source": [
    "# Remove \"Draw\" Rows\n",
    "fights_fighters_events = fights_fighters_events.drop(fights_fighters_events[fights_fighters_events[\"Win/Loss/Draw\"] == \"DRAW\"].index)\n",
    "fights_fighters_events = fights_fighters_events.drop(fights_fighters_events[fights_fighters_events[\"Win/Loss/Draw\"] == \"NC\"].index)"
   ]
  },
  {
   "cell_type": "code",
   "execution_count": 360,
   "metadata": {},
   "outputs": [],
   "source": [
    "outcome_col = fights_fighters_events['Win/Loss/Draw']\n",
    "\n",
    "for items in outcome_col.iteritems():\n",
    "    outcome = items[1]\n",
    "    out = 0.5\n",
    "    if outcome == 'WIN':\n",
    "        out = 1\n",
    "    elif outcome == \"LOSS\":\n",
    "        out = 0\n",
    "    fights_fighters_events.at[items[0], \"Win/Loss/Draw\"] = out\n",
    "    "
   ]
  },
  {
   "cell_type": "code",
   "execution_count": 361,
   "metadata": {},
   "outputs": [],
   "source": [
    "# fights_fighters_events.head(50)"
   ]
  },
  {
   "cell_type": "markdown",
   "metadata": {},
   "source": [
    "## Fit Data Model"
   ]
  },
  {
   "cell_type": "markdown",
   "metadata": {},
   "source": [
    "### Select Features and Target"
   ]
  },
  {
   "cell_type": "code",
   "execution_count": 362,
   "metadata": {},
   "outputs": [],
   "source": [
    "y = fights_fighters_events[\"Win/Loss/Draw\"]\n",
    "\n",
    "fighter_features = [\"HEIGHT\", \"WEIGHT\", \"AGE\"]\n",
    "X = fights_fighters_events[fighter_features]"
   ]
  },
  {
   "cell_type": "markdown",
   "metadata": {},
   "source": [
    "### Split Data"
   ]
  },
  {
   "cell_type": "code",
   "execution_count": 363,
   "metadata": {},
   "outputs": [],
   "source": [
    "train_X, val_X, train_y, val_y = train_test_split(X, y, random_state = 0)"
   ]
  },
  {
   "cell_type": "markdown",
   "metadata": {},
   "source": [
    "### Fit Data to Model"
   ]
  },
  {
   "cell_type": "code",
   "execution_count": 364,
   "metadata": {},
   "outputs": [
    {
     "data": {
      "text/plain": [
       "DecisionTreeRegressor(criterion='mse', max_depth=None, max_features=None,\n",
       "                      max_leaf_nodes=100, min_impurity_decrease=0.0,\n",
       "                      min_impurity_split=None, min_samples_leaf=1,\n",
       "                      min_samples_split=2, min_weight_fraction_leaf=0.0,\n",
       "                      presort=False, random_state=1, splitter='best')"
      ]
     },
     "execution_count": 364,
     "metadata": {},
     "output_type": "execute_result"
    }
   ],
   "source": [
    "fighter_model = DecisionTreeRegressor(max_leaf_nodes=100, random_state=1)\n",
    "fighter_model.fit(train_X, train_y)"
   ]
  },
  {
   "cell_type": "markdown",
   "metadata": {},
   "source": [
    "### Calculate Error"
   ]
  },
  {
   "cell_type": "code",
   "execution_count": 365,
   "metadata": {},
   "outputs": [
    {
     "name": "stdout",
     "output_type": "stream",
     "text": [
      "0.3349173660433623\n"
     ]
    }
   ],
   "source": [
    "val_predictions = fighter_model.predict(val_X)\n",
    "print(mean_absolute_error(val_y, val_predictions))"
   ]
  },
  {
   "cell_type": "markdown",
   "metadata": {},
   "source": [
    "### Optimize MAE"
   ]
  },
  {
   "cell_type": "code",
   "execution_count": 366,
   "metadata": {},
   "outputs": [],
   "source": [
    "def get_mae(max_leaf_nodes, train_X, val_X, train_y, val_y):\n",
    "    model = DecisionTreeRegressor(max_leaf_nodes=max_leaf_nodes, random_state=1)\n",
    "    model.fit(train_X, train_y)\n",
    "    preds_val = model.predict(val_X)\n",
    "    mae = mean_absolute_error(val_y, preds_val)\n",
    "    return(mae)"
   ]
  },
  {
   "cell_type": "code",
   "execution_count": 367,
   "metadata": {},
   "outputs": [
    {
     "name": "stdout",
     "output_type": "stream",
     "text": [
      "Max leaf nodes: 5  \t\t Mean Absolute Error:  0.3379257057681516\n",
      "Max leaf nodes: 50  \t\t Mean Absolute Error:  0.33550708290301035\n",
      "Max leaf nodes: 100  \t\t Mean Absolute Error:  0.3349173660433623\n",
      "Max leaf nodes: 500  \t\t Mean Absolute Error:  0.3354316555052822\n",
      "Max leaf nodes: 5000  \t\t Mean Absolute Error:  0.3384520168923839\n"
     ]
    }
   ],
   "source": [
    "for max_leaf_nodes in [5, 50, 100, 500, 5000]:\n",
    "    my_mae = get_mae(max_leaf_nodes, train_X, val_X, train_y, val_y)\n",
    "    print(f\"Max leaf nodes: {max_leaf_nodes}  \\t\\t Mean Absolute Error:  {my_mae}\")"
   ]
  },
  {
   "cell_type": "code",
   "execution_count": null,
   "metadata": {},
   "outputs": [],
   "source": []
  }
 ],
 "metadata": {
  "kernelspec": {
   "display_name": "Python 3",
   "language": "python",
   "name": "python3"
  },
  "language_info": {
   "codemirror_mode": {
    "name": "ipython",
    "version": 3
   },
   "file_extension": ".py",
   "mimetype": "text/x-python",
   "name": "python",
   "nbconvert_exporter": "python",
   "pygments_lexer": "ipython3",
   "version": "3.7.3"
  }
 },
 "nbformat": 4,
 "nbformat_minor": 2
}
