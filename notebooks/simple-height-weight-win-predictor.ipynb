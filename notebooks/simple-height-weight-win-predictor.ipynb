{
 "cells": [
  {
   "cell_type": "markdown",
   "metadata": {},
   "source": [
    "## Join fighters and fights table"
   ]
  },
  {
   "cell_type": "code",
   "execution_count": 1,
   "metadata": {},
   "outputs": [],
   "source": [
    "import pandas as pd\n",
    "import matplotlib.pyplot as plt\n",
    "from sklearn.tree import DecisionTreeRegressor\n",
    "from sklearn.model_selection import train_test_split\n",
    "from sklearn.metrics import mean_absolute_error\n",
    "import re\n",
    "\n",
    "fighters_path = \"../data/fighters.csv\"\n",
    "fights_path = \"../data/fights.csv\"\n",
    "\n",
    "fighters = pd.read_csv(fighters_path)\n",
    "fights = pd.read_csv(fights_path)\n",
    "\n",
    "fights_fighters = fights.merge(fighters, right_on='NAME', left_on=\"Fighter\")\n",
    "# fights_fighters.head(50)"
   ]
  },
  {
   "cell_type": "markdown",
   "metadata": {},
   "source": [
    "## Prep Data"
   ]
  },
  {
   "cell_type": "markdown",
   "metadata": {},
   "source": [
    "### Convert Height to Inches"
   ]
  },
  {
   "cell_type": "code",
   "execution_count": 2,
   "metadata": {},
   "outputs": [],
   "source": [
    "heights_col = fights_fighters['HEIGHT']\n",
    "\n",
    "for items in heights_col.iteritems():\n",
    "    out_inches = 0\n",
    "    if isinstance(items[1], str):\n",
    "        height = items[1].split('\\'')\n",
    "        feet = int(height[0])\n",
    "        inches = int(height[1])\n",
    "        out_inches = (feet*12 + inches)\n",
    "    fights_fighters.at[items[0], \"HEIGHT\"] = out_inches"
   ]
  },
  {
   "cell_type": "code",
   "execution_count": 3,
   "metadata": {},
   "outputs": [],
   "source": [
    "# fights_fighters.head(50)"
   ]
  },
  {
   "cell_type": "markdown",
   "metadata": {},
   "source": [
    "### Convert Pounds to Int"
   ]
  },
  {
   "cell_type": "code",
   "execution_count": 4,
   "metadata": {},
   "outputs": [],
   "source": [
    "weights_col = fights_fighters['WEIGHT']\n",
    "\n",
    "for items in weights_col.iteritems():\n",
    "    parseWeight = 0\n",
    "    if isinstance(items[1], str):\n",
    "        parseWeight = int(re.sub(\"[^0-9]\", \"\", items[1]))\n",
    "    fights_fighters.at[items[0], \"WEIGHT\"] = parseWeight"
   ]
  },
  {
   "cell_type": "code",
   "execution_count": 5,
   "metadata": {},
   "outputs": [],
   "source": [
    "# fights_fighters.head(50)"
   ]
  },
  {
   "cell_type": "markdown",
   "metadata": {},
   "source": [
    "### Parse Win, Loss to 0, 1. Remove draw and NC rows."
   ]
  },
  {
   "cell_type": "code",
   "execution_count": 6,
   "metadata": {},
   "outputs": [],
   "source": [
    "# Remove \"Draw\" Rows\n",
    "fights_fighters = fights_fighters.drop(fights_fighters[fights_fighters[\"Win/Loss/Draw\"] == \"DRAW\"].index)\n",
    "fights_fighters = fights_fighters.drop(fights_fighters[fights_fighters[\"Win/Loss/Draw\"] == \"NC\"].index)"
   ]
  },
  {
   "cell_type": "code",
   "execution_count": 7,
   "metadata": {},
   "outputs": [],
   "source": [
    "outcome_col = fights_fighters['Win/Loss/Draw']\n",
    "\n",
    "for items in outcome_col.iteritems():\n",
    "    outcome = items[1]\n",
    "    out = 0.5\n",
    "    if outcome == 'WIN':\n",
    "        out = 1\n",
    "    elif outcome == \"LOSS\":\n",
    "        out = 0\n",
    "    fights_fighters.at[items[0], \"Win/Loss/Draw\"] = out\n",
    "    "
   ]
  },
  {
   "cell_type": "code",
   "execution_count": 8,
   "metadata": {},
   "outputs": [],
   "source": [
    "# fights_fighters.head(50)"
   ]
  },
  {
   "cell_type": "markdown",
   "metadata": {},
   "source": [
    "## Fit Data Model"
   ]
  },
  {
   "cell_type": "markdown",
   "metadata": {},
   "source": [
    "### Select Features and Target"
   ]
  },
  {
   "cell_type": "code",
   "execution_count": 9,
   "metadata": {},
   "outputs": [],
   "source": [
    "y = fights_fighters[\"Win/Loss/Draw\"]\n",
    "\n",
    "fighter_features = [\"HEIGHT\", \"WEIGHT\"]\n",
    "X = fights_fighters[fighter_features]"
   ]
  },
  {
   "cell_type": "markdown",
   "metadata": {},
   "source": [
    "### Split Data"
   ]
  },
  {
   "cell_type": "code",
   "execution_count": 10,
   "metadata": {},
   "outputs": [],
   "source": [
    "train_X, val_X, train_y, val_y = train_test_split(X, y, random_state = 0)"
   ]
  },
  {
   "cell_type": "markdown",
   "metadata": {},
   "source": [
    "### Fit Data to Model"
   ]
  },
  {
   "cell_type": "code",
   "execution_count": 37,
   "metadata": {},
   "outputs": [
    {
     "data": {
      "text/plain": [
       "DecisionTreeRegressor(criterion='mse', max_depth=None, max_features=None,\n",
       "                      max_leaf_nodes=100, min_impurity_decrease=0.0,\n",
       "                      min_impurity_split=None, min_samples_leaf=1,\n",
       "                      min_samples_split=2, min_weight_fraction_leaf=0.0,\n",
       "                      presort=False, random_state=1, splitter='best')"
      ]
     },
     "execution_count": 37,
     "metadata": {},
     "output_type": "execute_result"
    }
   ],
   "source": [
    "fighter_model = DecisionTreeRegressor(max_leaf_nodes=100, random_state=1)\n",
    "fighter_model.fit(train_X, train_y)"
   ]
  },
  {
   "cell_type": "markdown",
   "metadata": {},
   "source": [
    "### Calculate Error"
   ]
  },
  {
   "cell_type": "code",
   "execution_count": 38,
   "metadata": {},
   "outputs": [
    {
     "name": "stdout",
     "output_type": "stream",
     "text": [
      "0.3591287522535331\n"
     ]
    }
   ],
   "source": [
    "val_predictions = fighter_model.predict(val_X)\n",
    "print(mean_absolute_error(val_y, val_predictions))"
   ]
  },
  {
   "cell_type": "markdown",
   "metadata": {},
   "source": [
    "### Optimize MAE"
   ]
  },
  {
   "cell_type": "code",
   "execution_count": 40,
   "metadata": {},
   "outputs": [],
   "source": [
    "def get_mae(max_leaf_nodes, train_X, val_X, train_y, val_y):\n",
    "    model = DecisionTreeRegressor(max_leaf_nodes=max_leaf_nodes, random_state=1)\n",
    "    model.fit(train_X, train_y)\n",
    "    preds_val = model.predict(val_X)\n",
    "    mae = mean_absolute_error(val_y, preds_val)\n",
    "    return(mae)"
   ]
  },
  {
   "cell_type": "code",
   "execution_count": 41,
   "metadata": {},
   "outputs": [
    {
     "name": "stdout",
     "output_type": "stream",
     "text": [
      "Max leaf nodes: 5  \t\t Mean Absolute Error:  0.360724576614016\n",
      "Max leaf nodes: 50  \t\t Mean Absolute Error:  0.3599045863024358\n",
      "Max leaf nodes: 100  \t\t Mean Absolute Error:  0.3591287522535331\n",
      "Max leaf nodes: 500  \t\t Mean Absolute Error:  0.35948521256149113\n",
      "Max leaf nodes: 5000  \t\t Mean Absolute Error:  0.35948521256149113\n"
     ]
    }
   ],
   "source": [
    "for max_leaf_nodes in [5, 50, 100, 500, 5000]:\n",
    "    my_mae = get_mae(max_leaf_nodes, train_X, val_X, train_y, val_y)\n",
    "    print(f\"Max leaf nodes: {max_leaf_nodes}  \\t\\t Mean Absolute Error:  {my_mae}\")"
   ]
  },
  {
   "cell_type": "code",
   "execution_count": null,
   "metadata": {},
   "outputs": [],
   "source": []
  }
 ],
 "metadata": {
  "kernelspec": {
   "display_name": "Python 3",
   "language": "python",
   "name": "python3"
  },
  "language_info": {
   "codemirror_mode": {
    "name": "ipython",
    "version": 3
   },
   "file_extension": ".py",
   "mimetype": "text/x-python",
   "name": "python",
   "nbconvert_exporter": "python",
   "pygments_lexer": "ipython3",
   "version": "3.7.3"
  }
 },
 "nbformat": 4,
 "nbformat_minor": 2
}
